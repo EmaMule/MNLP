{
  "cells": [
    {
      "cell_type": "markdown",
      "source": [
        "\n",
        "\n",
        "IMPORTANT: the notebook's native use is in Colab environment since we use bash commands for installing libraries and other packages. For this reason if you want to run you can open the link from here:\n",
        "\n",
        "[![Open In Colab](https://colab.research.google.com/assets/colab-badge.svg)](https://colab.research.google.com/drive/1uAJDAoIFLmpo7YRYwrVv9roIZi-_gQ3N?authuser=1#scrollTo=B1TavIo6LjPQ&uniqifier=11)"
      ],
      "metadata": {
        "id": "B1TavIo6LjPQ"
      }
    },
    {
      "cell_type": "markdown",
      "source": [
        "Installing needed packages..."
      ],
      "metadata": {
        "id": "1HVCkb594-Ep"
      }
    },
    {
      "cell_type": "code",
      "execution_count": null,
      "metadata": {
        "id": "3haLrDyq2AFl"
      },
      "outputs": [],
      "source": [
        "%%capture\n",
        "!pip install jsonlines\n",
        "!pip install fasttext\n",
        "!pip install jinja2"
      ]
    },
    {
      "cell_type": "markdown",
      "source": [
        "Importing needed libraries..."
      ],
      "metadata": {
        "id": "NLQTJbD75CN3"
      }
    },
    {
      "cell_type": "code",
      "execution_count": null,
      "metadata": {
        "id": "ZTGhsEbJ2Hvc"
      },
      "outputs": [],
      "source": [
        "import pandas as pd\n",
        "from google.colab import drive\n",
        "import jsonlines\n",
        "import json\n",
        "import fasttext\n",
        "import fasttext.util\n",
        "import numpy as np\n",
        "import random\n",
        "import gzip\n",
        "import shutil\n",
        "import re\n",
        "import nltk\n",
        "from nltk import word_tokenize, pos_tag\n",
        "import jinja2\n",
        "import matplotlib.pyplot as plt\n",
        "from sklearn.decomposition import PCA"
      ]
    },
    {
      "cell_type": "markdown",
      "metadata": {
        "id": "B0ULO1Wx2MVm"
      },
      "source": [
        "Downloading the dataset La Ghigliottina from https://ghigliottin-ai.github.io/dataset.json, the FastText model used for the distractors generation, the Italian Dictionary from my repository and the Italian stop words."
      ]
    },
    {
      "cell_type": "code",
      "execution_count": null,
      "metadata": {
        "colab": {
          "base_uri": "https://localhost:8080/"
        },
        "id": "SVzzIy9e2mqA",
        "outputId": "b0aeec54-d435-4523-da35-2c99d7067fe6"
      },
      "outputs": [
        {
          "output_type": "stream",
          "name": "stdout",
          "text": [
            "--2024-04-07 10:20:10--  https://ghigliottin-ai.github.io/dataset.json\n",
            "Resolving ghigliottin-ai.github.io (ghigliottin-ai.github.io)... 185.199.108.153, 185.199.109.153, 185.199.110.153, ...\n",
            "Connecting to ghigliottin-ai.github.io (ghigliottin-ai.github.io)|185.199.108.153|:443... connected.\n",
            "HTTP request sent, awaiting response... 200 OK\n",
            "Length: 43138 (42K) [application/json]\n",
            "Saving to: ‘GhigliottinaDataset.json’\n",
            "\n",
            "\rGhigliottinaDataset   0%[                    ]       0  --.-KB/s               \rGhigliottinaDataset 100%[===================>]  42.13K  --.-KB/s    in 0.01s   \n",
            "\n",
            "2024-04-07 10:20:11 (3.92 MB/s) - ‘GhigliottinaDataset.json’ saved [43138/43138]\n",
            "\n",
            "--2024-04-07 10:20:11--  https://dl.fbaipublicfiles.com/fasttext/vectors-crawl/cc.it.300.bin.gz\n",
            "Resolving dl.fbaipublicfiles.com (dl.fbaipublicfiles.com)... 18.173.166.74, 18.173.166.48, 18.173.166.51, ...\n",
            "Connecting to dl.fbaipublicfiles.com (dl.fbaipublicfiles.com)|18.173.166.74|:443... connected.\n",
            "HTTP request sent, awaiting response... 200 OK\n",
            "Length: 4502592726 (4.2G) [application/octet-stream]\n",
            "Saving to: ‘cc.it.300.bin.gz’\n",
            "\n",
            "cc.it.300.bin.gz    100%[===================>]   4.19G  71.6MB/s    in 50s     \n",
            "\n",
            "2024-04-07 10:21:01 (85.8 MB/s) - ‘cc.it.300.bin.gz’ saved [4502592726/4502592726]\n",
            "\n",
            "--2024-04-07 10:21:01--  https://github.com/EmaMule/MNLP/raw/main/dizionario.txt\n",
            "Resolving github.com (github.com)... 140.82.114.3\n",
            "Connecting to github.com (github.com)|140.82.114.3|:443... connected.\n",
            "HTTP request sent, awaiting response... 302 Found\n",
            "Location: https://raw.githubusercontent.com/EmaMule/MNLP/main/dizionario.txt [following]\n",
            "--2024-04-07 10:21:01--  https://raw.githubusercontent.com/EmaMule/MNLP/main/dizionario.txt\n",
            "Resolving raw.githubusercontent.com (raw.githubusercontent.com)... 185.199.111.133, 185.199.109.133, 185.199.108.133, ...\n",
            "Connecting to raw.githubusercontent.com (raw.githubusercontent.com)|185.199.111.133|:443... connected.\n",
            "HTTP request sent, awaiting response... 200 OK\n",
            "Length: 173720 (170K) [text/plain]\n",
            "Saving to: ‘dizionario.txt’\n",
            "\n",
            "dizionario.txt      100%[===================>] 169.65K  --.-KB/s    in 0.02s   \n",
            "\n",
            "2024-04-07 10:21:02 (7.12 MB/s) - ‘dizionario.txt’ saved [173720/173720]\n",
            "\n",
            "--2024-04-07 10:21:02--  https://raw.githubusercontent.com/stopwords-iso/stopwords-it/master/stopwords-it.txt\n",
            "Resolving raw.githubusercontent.com (raw.githubusercontent.com)... 185.199.109.133, 185.199.111.133, 185.199.108.133, ...\n",
            "Connecting to raw.githubusercontent.com (raw.githubusercontent.com)|185.199.109.133|:443... connected.\n",
            "HTTP request sent, awaiting response... 200 OK\n",
            "Length: 4113 (4.0K) [text/plain]\n",
            "Saving to: ‘stopwords-it.txt’\n",
            "\n",
            "stopwords-it.txt    100%[===================>]   4.02K  --.-KB/s    in 0s      \n",
            "\n",
            "2024-04-07 10:21:02 (51.0 MB/s) - ‘stopwords-it.txt’ saved [4113/4113]\n",
            "\n"
          ]
        }
      ],
      "source": [
        "#download the dataset using wget\n",
        "\n",
        "!wget -O GhigliottinaDataset.json \"https://ghigliottin-ai.github.io/dataset.json\"\n",
        "!wget -O cc.it.300.bin.gz \"https://dl.fbaipublicfiles.com/fasttext/vectors-crawl/cc.it.300.bin.gz\"\n",
        "!wget -O dizionario.txt \"https://github.com/EmaMule/MNLP/raw/main/dizionario.txt\"\n",
        "!wget -O stopwords-it.txt \"https://raw.githubusercontent.com/stopwords-iso/stopwords-it/master/stopwords-it.txt\""
      ]
    },
    {
      "cell_type": "markdown",
      "source": [
        "Decompressing the model parameters..."
      ],
      "metadata": {
        "id": "A2F6_6jX5fu7"
      }
    },
    {
      "cell_type": "code",
      "source": [
        "# Path to the downloaded compressed model file\n",
        "compressed_model_path = 'cc.it.300.bin.gz'\n",
        "uncompressed_model_path = 'cc.it.300.bin'\n",
        "\n",
        "# Decompress the model\n",
        "with gzip.open(compressed_model_path, 'rb') as f_in:\n",
        "    with open(uncompressed_model_path, 'wb') as f_out:\n",
        "        shutil.copyfileobj(f_in, f_out)\n",
        "\n",
        "!rm -rf \"cc.it.300.bin.gz\""
      ],
      "metadata": {
        "id": "JpJK0aARv2Cn"
      },
      "execution_count": null,
      "outputs": []
    },
    {
      "cell_type": "markdown",
      "metadata": {
        "id": "gkCmVv0nRcrX"
      },
      "source": [
        "Setting the seed for enforcing repeatability"
      ]
    },
    {
      "cell_type": "code",
      "execution_count": null,
      "metadata": {
        "id": "verRbtgjRcIR"
      },
      "outputs": [],
      "source": [
        "random.seed(42)"
      ]
    },
    {
      "cell_type": "markdown",
      "source": [
        "Loading the models parameters..."
      ],
      "metadata": {
        "id": "7OfrE0nd5vWz"
      }
    },
    {
      "cell_type": "code",
      "execution_count": null,
      "metadata": {
        "id": "9oP5S9WaO_Uc",
        "colab": {
          "base_uri": "https://localhost:8080/"
        },
        "outputId": "94da996f-1e13-4910-85e5-95ca75a8d467"
      },
      "outputs": [
        {
          "output_type": "stream",
          "name": "stderr",
          "text": [
            "Warning : `load_model` does not return WordVectorModel or SupervisedModel any more, but a `FastText` object which is very similar.\n"
          ]
        }
      ],
      "source": [
        "ft = fasttext.load_model('cc.it.300.bin')"
      ]
    },
    {
      "cell_type": "code",
      "execution_count": null,
      "metadata": {
        "id": "YO7xAOaIMOoY"
      },
      "outputs": [],
      "source": [
        "with open(\"dizionario.txt\", 'r') as f:\n",
        "    read_list = f.readlines()\n",
        "with open(\"stopwords-it.txt\", 'r') as f:\n",
        "    stopwords_list = f.readlines()\n",
        "\n",
        "italian_vocab = [word.strip(\" \\n\\\"\") for word in read_list]\n",
        "stopwords = [word.strip(\" \\n\\\"\") for word in stopwords_list]"
      ]
    },
    {
      "cell_type": "markdown",
      "metadata": {
        "id": "BcWOpdd8htRb"
      },
      "source": [
        "Funciton to evaluate the cosine similarity of two vectors."
      ]
    },
    {
      "cell_type": "code",
      "execution_count": null,
      "metadata": {
        "id": "59NI4W0Ah03u"
      },
      "outputs": [],
      "source": [
        "def cosine_similarity(vector1, vector2):\n",
        "    similarity = np.dot(vector1, vector2) / (np.linalg.norm(vector1) * np.linalg.norm(vector2))\n",
        "    return similarity"
      ]
    },
    {
      "cell_type": "markdown",
      "source": [
        "Naive solution for distractors generation.\n",
        "\n",
        "Solution performed as single student.\n",
        "\n",
        "As commented in the report, I extract three random words from the built dictionary that are different from given_words and the solution."
      ],
      "metadata": {
        "id": "nbGHkXm9CEyO"
      }
    },
    {
      "cell_type": "code",
      "source": [
        "def generate_distractors(given_words, solution):\n",
        "    # Assuming italian_vocab and stopwords are defined somewhere\n",
        "    similar_words = list(set(italian_vocab) - set(stopwords))\n",
        "\n",
        "    # Remove words from given_words and solution\n",
        "    similar_words = [word for word in similar_words if word not in given_words and word != solution]\n",
        "\n",
        "    # Make sure there are enough words to sample from\n",
        "\n",
        "    # Sample three different words\n",
        "    sampled_words = random.sample(similar_words, 3)\n",
        "    print(sampled_words)\n",
        "    return sampled_words"
      ],
      "metadata": {
        "id": "DLPCuQAiB-gG"
      },
      "execution_count": null,
      "outputs": []
    },
    {
      "cell_type": "markdown",
      "metadata": {
        "id": "LlN6irxiTV5i"
      },
      "source": [
        "Vectorial-based method for distractors generation.\n",
        "\n",
        "Part of the group work.\n",
        "\n",
        "As commented in the report it consists into evaluating the average vector and then obtain the three closest words different from the solution and the given words to the average vector."
      ]
    },
    {
      "cell_type": "code",
      "execution_count": null,
      "metadata": {
        "id": "YgkJGR4UXsUl"
      },
      "outputs": [],
      "source": [
        "def generate_distractors(given_words,solution):# Given words\n",
        "\n",
        "  similar_words = list((set(ft.words) & set(italian_vocab)) - set(stopwords))\n",
        "\n",
        "  word_vectors = [ft.get_word_vector(word) for word in given_words]\n",
        "\n",
        "  # Calculate average vector\n",
        "  solution_vector = ft.get_word_vector(solution)\n",
        "  # Generate random vector of the same dimension\n",
        "  #random_vector = np.random.rand(*solution_vector.shape)\n",
        "\n",
        "  average_vector = np.mean(word_vectors, axis=0)\n",
        "\n",
        "  # Calculate similarity between average vector and all words in vocabulary\n",
        "  #similar_words = italian_vocab #italian dictionary\n",
        "\n",
        "  similarities = [cosine_similarity(ft.get_word_vector(word), average_vector) for word in similar_words]\n",
        "\n",
        "  # Combine words and similarities\n",
        "  word_similarity_pairs = list(zip(similar_words, similarities))\n",
        "\n",
        "  # Sort by similarity (higher values mean more similar)\n",
        "  word_similarity_pairs.sort(key=lambda x: x[1], reverse=True)\n",
        "\n",
        "  # Filter out given words from similar words, da aggiungere controllo su w1 = w2\n",
        "  filtered_similar_words = [word.lower() for word, similarity in word_similarity_pairs if not re.search(r'[^a-z\\s]', word) and word.lower() not in given_words and word.lower() != solution]\n",
        "\n",
        "  #print(filtered_similar_words[0:15])\n",
        "  sampled_words = filtered_similar_words[:3]\n",
        "\n",
        "  print(sampled_words)\n",
        "\n",
        "  return sampled_words"
      ]
    },
    {
      "cell_type": "markdown",
      "metadata": {
        "id": "76chIcmHTaA0"
      },
      "source": [
        "Probabilistic method for distractors generation.\n",
        "\n",
        "Part of the group work.\n",
        "\n",
        "As commented in the report it consists into iteratively updating the likelihood of words in the vocabulary using the cosine similarity of two vectors and logits and then using a softmax to map them into a probability distribution. We then perform an element-wise product to update the probability of each word in the vocabulary after having seen the given word. After this iterative process terminates, we then obtain the three words having the greatest likelihood different from the solution and the given words.\n"
      ]
    },
    {
      "cell_type": "code",
      "execution_count": null,
      "metadata": {
        "id": "--PJv3SgbNZh"
      },
      "outputs": [],
      "source": [
        "def generate_distractors(given_words,solution):# Given words\n",
        "\n",
        "  similar_words = list((set(ft.words) & set(italian_vocab)) - set(stopwords))\n",
        "\n",
        "  word_vectors = [ft.get_word_vector(word) for word in given_words]\n",
        "  #word_vectors.append(ft.get_word_vector(solution))\n",
        "\n",
        "  #similarities = np.array([1 for i in range(len(similar_words))])\n",
        "  similarities = np.ones(len(similar_words)) / len(similar_words)\n",
        "  for i in word_vectors:\n",
        "    scores = np.array([cosine_similarity(ft.get_word_vector(word), i) for word in similar_words])\n",
        "    probs = np.exp(scores) / (np.sum(np.exp(scores), axis=0))\n",
        "    similarities = np.multiply(similarities, probs)\n",
        "\n",
        "  word_similarity_pairs = list(zip(similar_words, similarities))\n",
        "  word_similarity_pairs.sort(key=lambda x: x[1], reverse=True)\n",
        "  filtered_similar_words = [word.lower() for word, similarity in word_similarity_pairs if not re.search(r'[^a-z\\s]', word) and word.lower() not in given_words and word.lower() != solution]\n",
        "  sampled_words = filtered_similar_words[:3]\n",
        "\n",
        "  print(sampled_words)\n",
        "\n",
        "  return sampled_words"
      ]
    },
    {
      "cell_type": "markdown",
      "source": [
        "Functions to plot in 2D through PCA decomposition embeddings of words for visualization purposes."
      ],
      "metadata": {
        "id": "C-NaTAnp7psm"
      }
    },
    {
      "cell_type": "code",
      "execution_count": null,
      "metadata": {
        "id": "Kcb7_HDwRT47",
        "colab": {
          "base_uri": "https://localhost:8080/",
          "height": 599
        },
        "outputId": "2ce24f0c-b13c-40b2-96eb-38df159f9ac0"
      },
      "outputs": [
        {
          "output_type": "stream",
          "name": "stdout",
          "text": [
            "['cervello', 'gallina', 'lavaggio', 'corpo', 'uovo', 'bucato', 'testa', 'animale', 'lavabiancheria', 'macchinario']\n",
            "ODDIO!\n"
          ]
        },
        {
          "output_type": "display_data",
          "data": {
            "text/plain": [
              "<Figure size 1000x600 with 1 Axes>"
            ],
            "image/png": "[encoded data removed]"
          },
          "metadata": {}
        }
      ],
      "source": [
        "def plot_word_neighbors_vectorial(given_words, embeddings_model, solution=None, num_neighbors=10):\n",
        "    similar_words = list((set(embeddings_model.words) & set(italian_vocab)) - set(stopwords))\n",
        "\n",
        "    word_vectors = [embeddings_model.get_word_vector(word) for word in given_words]\n",
        "\n",
        "    # Calcolo del vettore medio\n",
        "    average_vector = np.mean(word_vectors, axis=0)\n",
        "\n",
        "    # Calcolo della similarità tra ciascuna parola e il vettore medio\n",
        "    similarities_to_mean = [cosine_similarity(embeddings_model.get_word_vector(w), average_vector) for w in similar_words]\n",
        "\n",
        "    word_similarity_pairs = list(zip(similar_words, similarities_to_mean))\n",
        "    word_similarity_pairs.sort(key=lambda x: x[1], reverse=True)\n",
        "\n",
        "    # Seleziono le parole simili migliori\n",
        "    top_similar_words = [w for w, _ in word_similarity_pairs[:num_neighbors]]\n",
        "    print(top_similar_words)\n",
        "    if solution in top_similar_words:\n",
        "      print(\"ODDIO!\")\n",
        "\n",
        "    else:\n",
        "      # Aggiungo la soluzione alla lista\n",
        "      top_similar_words.append(solution)\n",
        "\n",
        "    # Selezione delle top 3 parole più vicine al vettore medio\n",
        "    #top_similar_mean_words_indices = np.argsort(similarities_to_mean)[-3:]\n",
        "\n",
        "    # Aggiunta delle top 3 parole più vicine al vettore medio alla lista delle parole da plottare\n",
        "    #top_similar_words.extend([similar_words[i] for i in top_similar_mean_words_indices])\n",
        "\n",
        "    # Performo la riduzione della dimensionalità per la visualizzazione\n",
        "    pca = PCA(n_components=2)\n",
        "        # Assuming vectors is a list of vectors\n",
        "    vectors = [embeddings_model.get_word_vector(w) for w in top_similar_words]\n",
        "    reduced_vectors = pca.fit_transform(vectors)\n",
        "\n",
        "    reduced_average_vector = pca.transform(X=[average_vector])[0]\n",
        "    # Plotting\n",
        "    plt.figure(figsize=(10, 6))\n",
        "\n",
        "    # Plotto i punti per le parole\n",
        "    different_count = 0\n",
        "    for i, w in enumerate(top_similar_words):\n",
        "        color = 'r' if w == solution else 'g' if w in given_words else 'orange' if w != solution and w not in given_words and different_count < 3 else 'b'\n",
        "        if color == 'orange':\n",
        "            different_count += 1\n",
        "        plt.scatter(reduced_vectors[i, 0], reduced_vectors[i, 1], marker='o', color=color)\n",
        "        plt.text(reduced_vectors[i, 0], reduced_vectors[i, 1], w)\n",
        "\n",
        "\n",
        "    # Plotto il punto per il vettore medio\n",
        "    plt.scatter(reduced_average_vector[0], reduced_average_vector[1], marker='x', color='purple')\n",
        "    plt.text(reduced_average_vector[0], reduced_average_vector[1], 'MEAN')\n",
        "\n",
        "        # Add legend with custom labels and colors\n",
        "    legend_labels = {\n",
        "        'Given Words': 'green',\n",
        "        'Solution': 'red',\n",
        "        'Chosen Words': 'orange',\n",
        "        'Similar Words': 'blue'\n",
        "    }\n",
        "    plt.legend(labels=legend_labels.keys(), handles=[\n",
        "        plt.Line2D([0], [0], marker='o', color='w', markerfacecolor=color, markersize=10)\n",
        "        for color in legend_labels.values()\n",
        "    ])\n",
        "\n",
        "    plt.title(\"2D Visualization of Nearest Neighbors\")\n",
        "    plt.xlabel(\"Principal Component 1\")\n",
        "    plt.ylabel(\"Principal Component 2\")\n",
        "    plt.grid(True)\n",
        "    plt.show()\n",
        "\n",
        "given_words = [\"posto\", \"artificiale\", \"lavaggio\", \"allenare\", \"gallina\"]  # Esempio di parole date\n",
        "solution = \"cervello\"  # Soluzione target\n",
        "plot_word_neighbors_vectorial(given_words, ft, solution=solution, num_neighbors=10)"
      ]
    },
    {
      "cell_type": "code",
      "execution_count": null,
      "metadata": {
        "id": "TFCJ5WPJ2bbL",
        "colab": {
          "base_uri": "https://localhost:8080/",
          "height": 599
        },
        "outputId": "1ae51c34-0696-41a4-f371-10169fa7e21a"
      },
      "outputs": [
        {
          "output_type": "stream",
          "name": "stdout",
          "text": [
            "['cervello', 'lavaggio', 'gallina', 'corpo', 'animale', 'macchinario', 'uovo', 'intelligenza', 'bucato', 'meccanico']\n",
            "ODDIO!\n"
          ]
        },
        {
          "output_type": "display_data",
          "data": {
            "text/plain": [
              "<Figure size 1000x600 with 1 Axes>"
            ],
            "image/png": "[encoded data removed]"
          },
          "metadata": {}
        }
      ],
      "source": [
        "def plot_word_neighbors_probabilistic(given_words, embeddings_model, solution=None, num_neighbors=10):\n",
        "    similar_words = list((set(embeddings_model.words) & set(italian_vocab)) - set(stopwords))\n",
        "\n",
        "    word_vectors = [embeddings_model.get_word_vector(word) for word in given_words if word in embeddings_model.words]\n",
        "    similarity_probs = np.ones(len(similar_words))/len(similar_words)\n",
        "\n",
        "    for i in word_vectors:\n",
        "        probs = np.array([cosine_similarity(embeddings_model.get_word_vector(w), i) for w in similar_words])\n",
        "        probs = np.exp(probs) / (np.sum(np.exp(probs), axis=0))\n",
        "        similarity_probs = np.multiply(similarity_probs, probs)\n",
        "\n",
        "    word_similarity_pairs = list(zip(similar_words, similarity_probs))\n",
        "    word_similarity_pairs.sort(key=lambda x: x[1], reverse=True)\n",
        "\n",
        "    # Selecting top similar words\n",
        "    top_similar_words = [w for w, _ in word_similarity_pairs[:num_neighbors]]\n",
        "    print(top_similar_words)\n",
        "    if solution in top_similar_words:\n",
        "      print(\"ODDIO!\")\n",
        "    else:\n",
        "      top_similar_words.append(solution)\n",
        "\n",
        "\n",
        "    # Perform dimensionality reduction for visualization\n",
        "    pca = PCA(n_components=2)\n",
        "    #vectors = [embeddings_model.get_word_vector(w) for w in top_similar_words]\n",
        "\n",
        "    # Assuming vectors is a list of vectors\n",
        "    vectors = [embeddings_model.get_word_vector(w) for w in top_similar_words]\n",
        "\n",
        "    reduced_vectors = pca.fit_transform(vectors)\n",
        "\n",
        "    # Plotting\n",
        "    plt.figure(figsize=(10, 6))\n",
        "    different_count = 0\n",
        "    for i, w in enumerate(top_similar_words):\n",
        "        color = 'r' if w == solution else 'g' if w in given_words else 'orange' if w != solution and w not in given_words and different_count < 3 else 'b'\n",
        "        if color == 'orange':\n",
        "            different_count += 1\n",
        "        plt.scatter(reduced_vectors[i, 0], reduced_vectors[i, 1], marker='o', color=color)\n",
        "        plt.text(reduced_vectors[i, 0], reduced_vectors[i, 1], w)\n",
        "\n",
        "            # Add legend with custom labels and colors\n",
        "    legend_labels = {\n",
        "        'Given Words': 'green',\n",
        "        'Solution': 'red',\n",
        "        'Chosen Words': 'orange',\n",
        "        'Similar Words': 'blue'\n",
        "    }\n",
        "    plt.legend(labels=legend_labels.keys(), handles=[\n",
        "        plt.Line2D([0], [0], marker='o', color='w', markerfacecolor=color, markersize=10)\n",
        "        for color in legend_labels.values()\n",
        "    ])\n",
        "\n",
        "    plt.title(\"2D Visualization of Nearest Neighbors\")\n",
        "    plt.xlabel(\"Principal Component 1\")\n",
        "    plt.ylabel(\"Principal Component 2\")\n",
        "    #plt.legend()\n",
        "    plt.grid(True)\n",
        "    plt.show()\n",
        "\n",
        "given_words = [\"posto\", \"artificiale\", \"lavaggio\", \"allenare\", \"gallina\"]  # Esempio di parole date\n",
        "solution = \"cervello\"  # Soluzione target\n",
        "plot_word_neighbors_probabilistic(given_words, ft, solution=solution, num_neighbors=10)"
      ]
    },
    {
      "cell_type": "markdown",
      "source": [
        "Code for producing needed .jsonl objects, as commented in the report, one of the choices performed was to shuffle the position of the solution in the list of choices, adjusting accordingly the label."
      ],
      "metadata": {
        "id": "5VawT3JQ72p3"
      }
    },
    {
      "cell_type": "code",
      "execution_count": null,
      "metadata": {
        "id": "RUDbLvGkAYZh",
        "colab": {
          "base_uri": "https://localhost:8080/"
        },
        "outputId": "9107dd3a-124c-49ab-d5d3-9d867fbd08e7"
      },
      "outputs": [
        {
          "output_type": "stream",
          "name": "stdout",
          "text": [
            "['corpo', 'animale', 'macchinario']\n",
            "['apparizione', 'conseguenza', 'divenire']\n",
            "['magnifica', 'mare', 'stupenda']\n",
            "['riferimento', 'impegno', 'dato']\n",
            "['personale', 'casa', 'pubblico']\n",
            "['giro', 'finire', 'veneto']\n",
            "['cittadella', 'medicina', 'piazzetta']\n",
            "['colpo', 'passaggio', 'segno']\n",
            "['magnifica', 'stupenda', 'festa']\n",
            "['finire', 'inizio', 'particolare']\n",
            "['posizione', 'strada', 'considerazione']\n",
            "['aeroplano', 'rotto', 'debituccio']\n",
            "['finire', 'ovvio', 'giusto']\n",
            "['pallettone', 'pianoforte', 'tappeto']\n",
            "['classica', 'tipo', 'particolare']\n",
            "['giro', 'finire', 'mezzogiorno']\n",
            "['casa', 'storia', 'particolare']\n",
            "['sabbia', 'messe', 'pasta']\n",
            "['combinazione', 'scarpina', 'classico']\n",
            "['buca', 'teste', 'fila']\n",
            "['anima', 'forte', 'bellezza']\n",
            "['corpo', 'dato', 'calare']\n",
            "['ritmo', 'santo', 'suono']\n",
            "['finire', 'costo', 'duro']\n",
            "['drago', 'castello', 'serpente']\n",
            "['iniziale', 'seconda', 'suddetta']\n",
            "['imperatore', 'pistolone', 'muro']\n",
            "['politica', 'prospettiva', 'proccupazione']\n",
            "['nord', 'giro', 'centro']\n",
            "['bianco', 'duro', 'fiore']\n",
            "['forma', 'testa', 'tondo']\n",
            "['unica', 'stupenda', 'magnifica']\n",
            "['programma', 'tutor', 'scuola']\n",
            "['passo', 'giro', 'passaggio']\n",
            "['politica', 'parlamento', 'parlamentare']\n",
            "['lettera', 'finestrella', 'circolare']\n",
            "['dirittto', 'storia', 'prospettiva']\n",
            "['sole', 'aria', 'caldo']\n",
            "['spinta', 'portata', 'calare']\n",
            "['gambetta', 'mano', 'finta']\n",
            "['periodo', 'mese', 'decennio']\n",
            "['sperimentazione', 'tematica', 'specifico']\n",
            "['bianco', 'costo', 'colore']\n",
            "['metallo', 'legno', 'marmo']\n",
            "['paura', 'sensazione', 'voglia']\n",
            "['stanza', 'sacchetto', 'cuscino']\n",
            "['stanza', 'mare', 'periferia']\n",
            "['pavimento', 'tetto', 'cemento']\n",
            "['governo', 'capetto', 'manipolo']\n",
            "['raffinato', 'difetto', 'insolito']\n",
            "['passaggio', 'piccolo', 'privilegiato']\n",
            "['antico', 'storico', 'vecchio']\n",
            "['sporco', 'colorato', 'grezzo']\n",
            "['vittoria', 'risultato', 'partita']\n",
            "['muro', 'trampolo', 'serpente']\n",
            "['unico', 'idea', 'ultima']\n",
            "['supremazia', 'strapotere', 'dispetto']\n",
            "['mano', 'pugno', 'pasticcere']\n",
            "['piccolo', 'magnifico', 'vero']\n",
            "['finire', 'fronte', 'fianco']\n",
            "['magnifico', 'piena', 'colmo']\n",
            "['bella', 'solita', 'dannata']\n",
            "['retaggio', 'particolare', 'rapporto']\n",
            "['freddo', 'miele', 'cibo']\n",
            "['vero', 'gusto', 'valore']\n",
            "['mare', 'approdo', 'passaggio']\n",
            "['punto', 'nero', 'rosso']\n",
            "['bianco', 'amore', 'finire']\n",
            "['piccolo', 'potente', 'magnifico']\n",
            "['passaggio', 'trasferimento', 'addetto']\n",
            "['nazione', 'regione', 'storia']\n",
            "['immagine', 'ritratto', 'granito']\n",
            "['livello', 'tipo', 'vista']\n",
            "['sviluppo', 'mercato', 'progettazione']\n",
            "['disposizione', 'lavoro', 'finire']\n",
            "['finire', 'ambito', 'inizio']\n",
            "['bella', 'sensazione', 'dato']\n",
            "['palmo', 'testa', 'manina']\n",
            "['forte', 'particolare', 'dibattito']\n",
            "['dato', 'punto', 'segno']\n",
            "['dimensione', 'misura', 'stanza']\n",
            "['dato', 'donna', 'espressione']\n",
            "['scatola', 'tasca', 'minestrina']\n",
            "['sedile', 'pannello', 'fogliettino']\n",
            "['messa', 'corpo', 'scena']\n",
            "['televisione', 'musica', 'particolare']\n",
            "['caldo', 'giusto', 'debituccio']\n",
            "['vero', 'ovvio', 'amore']\n",
            "['salto', 'livello', 'passaggio']\n",
            "['impatto', 'risultato', 'vero']\n",
            "['magnifico', 'dato', 'attimo']\n",
            "['relazione', 'tipo', 'perfezionamento']\n",
            "['strada', 'capello', 'terra']\n",
            "['certezza', 'ricchezza', 'sensazione']\n",
            "['italiano', 'paesello', 'territorio']\n",
            "['testa', 'piede', 'fianco']\n",
            "['libro', 'quaderno', 'taccuino']\n",
            "['salvataggio', 'mattina', 'rientro']\n",
            "['giro', 'corsa', 'passeggiata']\n",
            "['arancione', 'rosso', 'rossa']\n",
            "['parallelismo', 'rapporto', 'contesto']\n",
            "['torno', 'passato', 'ritorno']\n",
            "['timore', 'rosso', 'segno']\n",
            "['lavoro', 'corso', 'percorso']\n",
            "['seconda', 'bella', 'unica']\n",
            "['prospettiva', 'storia', 'classica']\n",
            "['inedito', 'racconto', 'insolito']\n",
            "['bella', 'solita', 'fortuna']\n",
            "['difetto', 'eccesso', 'consapevolezza']\n",
            "['argento', 'nero', 'bianco']\n",
            "['laterale', 'portatile', 'verticale']\n",
            "['sapienza', 'cultura', 'torrente']\n",
            "['sogno', 'cuore', 'sognatore']\n",
            "['uccellino', 'fiore', 'uccello']\n",
            "['dato', 'stanza', 'angoletto']\n",
            "['stanza', 'casa', 'scuola']\n",
            "['faccenda', 'pratica', 'relazione']\n",
            "['strategia', 'azione', 'iniziativa']\n",
            "['bianca', 'forma', 'bella']\n",
            "['cibo', 'pasticceria', 'cocktail']\n",
            "['famigliare', 'prospettiva', 'politica']\n",
            "['materiale', 'detenzione', 'confisca']\n",
            "['tipo', 'livello', 'punto']\n",
            "['vero', 'unico', 'sfortunato']\n",
            "['unico', 'riferimento', 'livello']\n",
            "['dato', 'particolare', 'lettera']\n",
            "['piccolo', 'pubblico', 'particolare']\n",
            "['problemino', 'piccolo', 'brutto']\n",
            "['cristallo', 'metallo', 'gioiello']\n",
            "['pioggia', 'temperatura', 'gocciolina']\n",
            "['animale', 'gatto', 'cucciolo']\n",
            "['particolare', 'finire', 'forma']\n",
            "['particolare', 'unica', 'sorprendente']\n",
            "['senso', 'briciolo', 'giusto']\n",
            "['tramonto', 'millennio', 'magnifico']\n",
            "['vero', 'eterno', 'profondo']\n",
            "['musica', 'canzone', 'poesia']\n",
            "['braccio', 'metallo', 'piede']\n",
            "['camicione', 'camiciola', 'abito']\n",
            "['testa', 'capello', 'pensiero']\n",
            "['simulazione', 'metodo', 'preliminare']\n",
            "['costo', 'finto', 'rapporto']\n",
            "['mano', 'camiciola', 'bella']\n",
            "['ambito', 'produzione', 'esistenza']\n",
            "['camera', 'testa', 'stanzetta']\n",
            "['pomeriggio', 'sabato', 'mattina']\n",
            "['ricciolino', 'tocchetto', 'ricciolone']\n",
            "['finestrella', 'fotografia', 'bella']\n",
            "['preparazione', 'forma', 'bella']\n",
            "['fresca', 'terra', 'erba']\n",
            "['solitaria', 'bella', 'unica']\n",
            "['finire', 'senso', 'desiderio']\n",
            "['cassetto', 'armadietto', 'mobiletto']\n",
            "['camera', 'casa', 'padrona']\n",
            "['consapevolezza', 'condizione', 'metafora']\n",
            "['sorpresa', 'gusto', 'sensazione']\n",
            "['servizio', 'ristorazione', 'costo']\n",
            "['ridotto', 'fondo', 'marginale']\n",
            "['mare', 'rosso', 'collina']\n",
            "['mondiale', 'mistica', 'conflitto']\n",
            "['classico', 'finto', 'simile']\n",
            "['denaro', 'lira', 'danaro']\n",
            "['livello', 'punto', 'prezzo']\n",
            "['scorcio', 'collina', 'laterale']\n",
            "['tronco', 'tetto', 'casetta']\n",
            "['bella', 'vecchiezza', 'giovinezza']\n",
            "['sonno', 'nido', 'servizio']\n",
            "['transito', 'privilegiato', 'mare']\n",
            "['bella', 'occasione', 'prospettiva']\n",
            "['atto', 'sentimento', 'desiderio']\n",
            "['amante', 'amato', 'ragazzo']\n",
            "['quattrocento', 'migliaio', 'milione']\n",
            "['bianco', 'arancio', 'pochino']\n",
            "['ragionamento', 'tipo', 'personale']\n",
            "['maglietta', 'casacca', 'coccarda']\n",
            "['propulsore', 'basamento', 'sistema']\n",
            "['esercito', 'difensiva', 'messa']\n",
            "['berrettino', 'maglione', 'sciarpa']\n",
            "['canzoncina', 'poesia', 'filastrocca']\n",
            "['televisione', 'partita', 'calcio']\n",
            "['arredamento', 'finire', 'messa']\n",
            "['tremenda', 'semplice', 'paura']\n",
            "['livello', 'servizio', 'tipo']\n",
            "['biliardo', 'passatempo', 'salotto']\n",
            "['riflessione', 'particolare', 'osservazione']\n",
            "['nobile', 'lingua', 'italiano']\n",
            "['salotto', 'pezzo', 'divano']\n",
            "['paura', 'sapere', 'ruota']\n",
            "['settentrionale', 'sacro', 'centrale']\n",
            "['laterale', 'lumino', 'cristallo']\n",
            "['libro', 'vero', 'magnifico']\n",
            "['unico', 'volo', 'partito']\n",
            "['dato', 'particolare', 'bisogno']\n",
            "['chiesa', 'caldo', 'predica']\n",
            "['lavoro', 'specifico', 'rapporto']\n",
            "['preoccupazione', 'particolare', 'consapevolezza']\n",
            "['dubbio', 'accenno', 'sapere']\n",
            "['governo', 'parlamentare', 'nazionale']\n",
            "['denaro', 'abbigliamento', 'suono']\n",
            "['nazione', 'casa', 'zona']\n",
            "['rischio', 'potenziale', 'patrimonio']\n",
            "['livello', 'alto', 'coraggio']\n",
            "['contesto', 'livello', 'unico']\n",
            "['ambito', 'programmazione', 'televisione']\n",
            "['didattica', 'linguistica', 'conversazione']\n",
            "['aereo', 'senso', 'dato']\n",
            "['dirittto', 'territorio', 'specifico']\n",
            "['giro', 'periodo', 'controllo']\n",
            "['finire', 'ultima', 'inizio']\n",
            "['certezza', 'convinzione', 'preoccupazione']\n",
            "['prospettiva', 'sostanza', 'nazione']\n",
            "['bella', 'potenziale', 'riconoscimento']\n",
            "['spiaggia', 'sabbia', 'cuore']\n",
            "['semplice', 'comodo', 'perfetto']\n",
            "['iniziale', 'particolare', 'superiore']\n",
            "['bella', 'solita', 'forma']\n",
            "['bianco', 'rossa', 'tigre']\n",
            "['granellino', 'compassione', 'anima']\n",
            "['porta', 'improvvisata', 'fresca']\n",
            "['dato', 'indagine', 'indicazione']\n",
            "['pomeriggio', 'domenica', 'domani']\n",
            "['amico', 'amato', 'tenero']\n",
            "['inizio', 'semplice', 'spirito']\n",
            "['particolare', 'dato', 'beneficio']\n",
            "['colmo', 'secchio', 'serbatoio']\n",
            "['storia', 'letteratura', 'prospettiva']\n",
            "['copertura', 'misura', 'nazionale']\n",
            "['sabato', 'mattinata', 'mattina']\n",
            "['finto', 'nero', 'blocco']\n",
            "['colpo', 'passaggio', 'filo']\n",
            "['giro', 'passaggio', 'finire']\n",
            "['nazionale', 'familiare', 'emergente']\n",
            "['testimonianza', 'semplice', 'magnifica']\n",
            "['giornalismo', 'lavoro', 'mercato']\n",
            "['tecnica', 'dinamica', 'relazione']\n",
            "['vela', 'danaro', 'soldo']\n",
            "['particolare', 'base', 'fronte']\n",
            "['gioco', 'arsenale', 'possesso']\n",
            "['ragazzina', 'stanza', 'donna']\n",
            "['rossetto', 'viso', 'scura']\n",
            "['bianca', 'rossa', 'bella']\n",
            "['ovvio', 'pomeriggio', 'contento']\n",
            "['mezzogiorno', 'finire', 'sera']\n",
            "['oro', 'rosso', 'verde']\n",
            "['guerra', 'tregua', 'regno']\n",
            "['bella', 'visione', 'portata']\n",
            "['semplice', 'sorprendente', 'particolare']\n",
            "['banale', 'semplice', 'questione']\n",
            "['mano', 'stanza', 'cavallone']\n",
            "['storia', 'economia', 'metafora']\n",
            "['massimo', 'punto', 'senso']\n",
            "['vetro', 'anello', 'tubo']\n",
            "['casa', 'famiglia', 'madre']\n",
            "['bella', 'unica', 'prospettiva']\n",
            "['nero', 'rosso', 'grigio']\n",
            "['tormento', 'dolore', 'desiderio']\n",
            "['ideale', 'perfetto', 'specifico']\n",
            "['particolare', 'fortuna', 'passaggio']\n",
            "['vecchio', 'vero', 'classico']\n",
            "['messe', 'unico', 'dato']\n",
            "['massimo', 'livello', 'elevazione']\n",
            "['magnifico', 'desiderio', 'mantello']\n",
            "['globo', 'molo', 'nord']\n",
            "['perfetto', 'perfetta', 'unico']\n",
            "['sgabello', 'poltrona', 'salotto']\n",
            "['semplice', 'solita', 'particolare']\n",
            "['base', 'concezione', 'movimento']\n",
            "['disordine', 'senso', 'assoluto']\n",
            "['camiciola', 'calzerotto', 'camicione']\n",
            "['strano', 'distratto', 'banale']\n",
            "['testa', 'gamba', 'cordicella']\n",
            "['dato', 'sostanza', 'indicazione']\n",
            "['interno', 'fianco', 'fondo']\n",
            "['cibo', 'coltello', 'gatto']\n",
            "['finire', 'passaggio', 'fondo']\n",
            "['scatola', 'sacchetto', 'plastica']\n",
            "['locale', 'gestione', 'ambiente']\n",
            "['anima', 'divina', 'sublime']\n",
            "['televisione', 'settore', 'nazionale']\n",
            "['mariolo', 'marco', 'pierino']\n",
            "['senso', 'ragionamento', 'motivo']\n",
            "['previsione', 'conseguenza', 'situazione']\n",
            "['chiacchiera', 'pubblico', 'svago']\n",
            "['stanza', 'squadra', 'ambiente']\n",
            "['impegno', 'passaggio', 'dirittto']\n",
            "['disegno', 'materia', 'pezzo']\n",
            "['unico', 'piccolo', 'dato']\n",
            "['spalla', 'bella', 'mano']\n",
            "['organizzazione', 'giro', 'parteciapzione']\n",
            "['codice', 'carattere', 'militare']\n",
            "['bagno', 'vasca', 'lavastoviglie']\n",
            "['sincero', 'sentimento', 'orgoglio']\n",
            "['estate', 'aria', 'cittadina']\n",
            "['bella', 'semplice', 'finire']\n",
            "['ufficiale', 'istituzione', 'funzionario']\n",
            "['finire', 'dispetto', 'baffo']\n",
            "['norma', 'conseguenza', 'condizione']\n",
            "['nord', 'rotta', 'bianca']\n",
            "['sabato', 'pomeriggio', 'figlio']\n",
            "['palcoscenico', 'molo', 'piccolo']\n"
          ]
        }
      ],
      "source": [
        "# Open JSON file\n",
        "with open('GhigliottinaDataset.json', 'r') as file:\n",
        "    data = json.load(file)\n",
        "\n",
        "with jsonlines.open(\"dataset.jsonl\", 'w') as writer:\n",
        "    # Iterate over JSON data\n",
        "    for item in data:\n",
        "        given_words = [item['w1'], item['w2'], item['w3'], item['w4'], item['w5']]\n",
        "        solution = item['solution']\n",
        "        list_distractors = generate_distractors(given_words, solution)\n",
        "\n",
        "        # Shuffle the choices\n",
        "        choices = [solution] + list_distractors\n",
        "        random.shuffle(choices)\n",
        "\n",
        "        # Get the index of the solution in the shuffled choices\n",
        "        label = choices.index(solution)\n",
        "        new_item = {\n",
        "            \"w1\": item['w1'],\n",
        "            \"w2\": item['w2'],\n",
        "            \"w3\": item['w3'],\n",
        "            \"w4\": item['w4'],\n",
        "            \"w5\": item['w5'],\n",
        "            \"choices\": choices,\n",
        "            \"label\": label\n",
        "        }\n",
        "        writer.write(new_item)"
      ]
    },
    {
      "cell_type": "markdown",
      "source": [
        "Code for shuffling and splitting datasets into development and test with a 80/20"
      ],
      "metadata": {
        "id": "MkoDHVeN8IHs"
      }
    },
    {
      "cell_type": "code",
      "execution_count": null,
      "metadata": {
        "id": "rHN-b6lyPnxy"
      },
      "outputs": [],
      "source": [
        "ratio = 0.8\n",
        "\n",
        "# Open dataset.jsonl file\n",
        "with jsonlines.open('dataset.jsonl', 'r') as reader:\n",
        "    data = list(reader)\n",
        "\n",
        "# Shuffle the data\n",
        "random.shuffle(data)\n",
        "\n",
        "# Calculate the split index\n",
        "split_index = int(ratio * len(data))\n",
        "\n",
        "# Split the data into train and test sets\n",
        "train_data = data[:split_index]\n",
        "test_data = data[split_index:]\n",
        "\n",
        "#adding ids!\n",
        "for id, item in enumerate(train_data):\n",
        "  item['id'] = f\"Ghigliottina-AI-task1-train-data-{id}\"\n",
        "\n",
        "for id, item in enumerate(test_data):\n",
        "  item['id'] = f\"Ghigliottina-AI-task1-test-data-{id}\"\n",
        "\n",
        "# Write train data to train.jsonl\n",
        "with jsonlines.open(\"Ghigliottin-AI-task1-train-data.jsonl\", 'w') as train_writer:\n",
        "    # Write train data to train.jsonl\n",
        "    train_writer.write_all(train_data)\n",
        "\n",
        "# Write test data to test.jsonl\n",
        "with jsonlines.open(\"Ghigliottin-AI-task1-test-data.jsonl\", 'w') as test_writer:\n",
        "    # Write test data to test.jsonl\n",
        "    test_writer.write_all(test_data)"
      ]
    },
    {
      "cell_type": "code",
      "execution_count": null,
      "metadata": {
        "id": "L52fRcGPFvSj"
      },
      "outputs": [],
      "source": [
        "prompts_list = [\"Date le seguenti parole: {{w1}}, {{w2}}, {{w3}}, {{w4}}, {{w5}}, quale delle seguenti parole si collega a tutte le altre tra le opzioni seguenti: {{choices}}?\",\n",
        "    \"Nel gioco della Ghigliottina, quale parola tra le seguenti opzioni: {{choices}}, è connessa a tutte le parole seguenti: {{w1}}, {{w2}}, {{w3}}, {{w4}}, {{w5}}?\",\n",
        "    \"Data questa serie di parole: {{w1}}, {{w2}}, {{w3}}, {{w4}}, {{w5}}, quale parola tra le opzioni seguenti: {{choices}} è in connessione con tutte le precedenti?\",\n",
        "    \"Il gioco della Ghigliottina consiste nel individuare la parola tra quelle proposte che si collega a tutte le parole date. Date le parole {{w1}}, {{w2}}, {{w3}}, {{w4}}, {{w5}}, quale parola tra le opzioni seguenti: {{choices}} è la soluzione?\",\n",
        "    \"Nel gioco della Ghigliottina, date le seguenti parole {{w1}}, {{w2}}, {{w3}}, {{w4}}, {{w5}}, quale parola tra le seguenti opzioni è la soluzione? Opzioni: {{choices}}\"]"
      ]
    },
    {
      "cell_type": "code",
      "execution_count": null,
      "metadata": {
        "id": "Lmz3jv62Qwqh"
      },
      "outputs": [],
      "source": [
        "with jsonlines.open('Ghigliottin-AI-task1-prompt.jsonl', 'w') as writer:\n",
        "  for prompt in prompts_list:\n",
        "    data = {\"prompt\": prompt}\n",
        "    writer.write(data)"
      ]
    },
    {
      "cell_type": "markdown",
      "source": [
        "Code to verify correctness of produced .jsonl files, example of populating prompt templates accordingly."
      ],
      "metadata": {
        "id": "uqQQ0fNR8Oz_"
      }
    },
    {
      "cell_type": "code",
      "execution_count": null,
      "metadata": {
        "id": "P3NMuy76Ss8M",
        "colab": {
          "base_uri": "https://localhost:8080/"
        },
        "outputId": "16e50115-f3ff-4845-c36b-a673c0b76300"
      },
      "outputs": [
        {
          "output_type": "stream",
          "name": "stdout",
          "text": [
            "0 Date le seguenti parole: posto, artificiale, lavaggio, allenare, gallina, quale delle seguenti parole si collega a tutte le altre tra le opzioni seguenti: animale, corpo, macchinario, cervello?\n",
            "LABEL: cervello\n",
            "0 Nel gioco della Ghigliottina, quale parola tra le seguenti opzioni: animale, corpo, macchinario, cervello, è connessa a tutte le parole seguenti: posto, artificiale, lavaggio, allenare, gallina?\n",
            "LABEL: cervello\n",
            "0 Data questa serie di parole: posto, artificiale, lavaggio, allenare, gallina, quale parola tra le opzioni seguenti: animale, corpo, macchinario, cervello è in connessione con tutte le precedenti?\n",
            "LABEL: cervello\n",
            "0 Il gioco della Ghigliottina consiste nel individuare la parola tra quelle proposte che si collega a tutte le parole date. Date le parole posto, artificiale, lavaggio, allenare, gallina, quale parola tra le opzioni seguenti: animale, corpo, macchinario, cervello è la soluzione?\n",
            "LABEL: cervello\n",
            "0 Nel gioco della Ghigliottina, date le seguenti parole posto, artificiale, lavaggio, allenare, gallina, quale parola tra le seguenti opzioni è la soluzione? Opzioni: animale, corpo, macchinario, cervello\n",
            "LABEL: cervello\n",
            "1 Date le seguenti parole: essere, comparsa, x men, ronaldo, mondiale, quale delle seguenti parole si collega a tutte le altre tra le opzioni seguenti: divenire, conseguenza, fenomeno, apparizione?\n",
            "LABEL: fenomeno\n",
            "1 Nel gioco della Ghigliottina, quale parola tra le seguenti opzioni: divenire, conseguenza, fenomeno, apparizione, è connessa a tutte le parole seguenti: essere, comparsa, x men, ronaldo, mondiale?\n",
            "LABEL: fenomeno\n",
            "1 Data questa serie di parole: essere, comparsa, x men, ronaldo, mondiale, quale parola tra le opzioni seguenti: divenire, conseguenza, fenomeno, apparizione è in connessione con tutte le precedenti?\n",
            "LABEL: fenomeno\n",
            "1 Il gioco della Ghigliottina consiste nel individuare la parola tra quelle proposte che si collega a tutte le parole date. Date le parole essere, comparsa, x men, ronaldo, mondiale, quale parola tra le opzioni seguenti: divenire, conseguenza, fenomeno, apparizione è la soluzione?\n",
            "LABEL: fenomeno\n",
            "1 Nel gioco della Ghigliottina, date le seguenti parole essere, comparsa, x men, ronaldo, mondiale, quale parola tra le seguenti opzioni è la soluzione? Opzioni: divenire, conseguenza, fenomeno, apparizione\n",
            "LABEL: fenomeno\n"
          ]
        }
      ],
      "source": [
        "def verify_correctness(file_path, num_samples, prompts_list):\n",
        "  # Read the JSONL file line by line\n",
        "  env = jinja2.Environment()\n",
        "  with open(file_path, 'r') as f:\n",
        "      i = 0\n",
        "      for line in f:\n",
        "          if i >= num_samples:\n",
        "              break\n",
        "\n",
        "          # Parse JSON from each line\n",
        "          data = json.loads(line)\n",
        "\n",
        "          # Iterate over the prompts list\n",
        "          for prompt in prompts_list:\n",
        "              template = env.from_string(prompt)\n",
        "              # Replace placeholders with data values\n",
        "              filled_prompt = template.render(w1 = data['w1'], w2 = data['w2'], w3 = data['w3'], w4 = data['w4'], w5 = data['w5'],\n",
        "                                            choices=', '.join(data['choices']))\n",
        "              print(i,filled_prompt)\n",
        "              print(\"LABEL:\", data['choices'][int(data['label'])])\n",
        "\n",
        "          i += 1\n",
        "\n",
        "verify_correctness('dataset.jsonl',2, prompts_list)\n"
      ]
    }
  ],
  "metadata": {
    "colab": {
      "provenance": []
    },
    "kernelspec": {
      "display_name": "Python 3",
      "name": "python3"
    },
    "language_info": {
      "name": "python"
    }
  },
  "nbformat": 4,
  "nbformat_minor": 0
}